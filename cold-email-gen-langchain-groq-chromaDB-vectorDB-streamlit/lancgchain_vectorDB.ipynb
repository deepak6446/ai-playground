{
 "cells": [
  {
   "cell_type": "code",
   "execution_count": 20,
   "id": "3da8a0ef-b81d-440a-b102-f0364bfbfaec",
   "metadata": {},
   "outputs": [],
   "source": [
    "from dotenv import load_dotenv\n",
    "import os\n",
    "\n",
    "load_dotenv()  # Load from .env file\n",
    "\n",
    "api_key = os.getenv(\"GROCKEY\")"
   ]
  },
  {
   "cell_type": "code",
   "execution_count": 22,
   "id": "62cbcb54-2748-489f-8d65-fb2a09995ae3",
   "metadata": {},
   "outputs": [
    {
     "name": "stdout",
     "output_type": "stream",
     "text": [
      "You're referring to one of the most historic moments in space exploration!\n",
      "\n",
      "The first person to land on the Moon was Neil Armstrong, an American astronaut and commander of the Apollo 11 mission. On July 20, 1969, Armstrong stepped out of the lunar module Eagle and onto the Moon's surface, famously declaring, \"That's one small step for man, one giant leap for mankind.\"\n",
      "\n",
      "Here's a brief rundown of the Apollo 11 mission and Neil Armstrong's achievement:\n",
      "\n",
      "**Apollo 11 Mission:**\n",
      "\n",
      "* Launched on July 16, 1969, from Kennedy Space Center, Florida\n",
      "* Crew members: Neil Armstrong (Commander), Edwin \"Buzz\" Aldrin (Lunar Module Pilot), and Michael Collins (Command Module Pilot)\n",
      "* Landed on the Moon's surface in the Sea of Tranquility on July 20, 1969\n",
      "\n",
      "**Neil Armstrong's Moonwalk:**\n",
      "\n",
      "* Armstrong became the first person to set foot on the Moon at 2:56 UTC on July 21, 1969 (July 20 in the United States)\n",
      "* He spent about two and a half hours outside the lunar module, collecting samples and conducting experiments\n",
      "* Aldrin joined Armstrong on the surface shortly afterwards, and the two astronauts spent a total of about 21 hours on the Moon's surface\n",
      "\n",
      "**Legacy:**\n",
      "\n",
      "* Armstrong's historic moonwalk marked a major achievement in the space race between the United States and the Soviet Union during the Cold War era\n",
      "* The Apollo 11 mission paved the way for future human spaceflight and lunar exploration\n",
      "* Neil Armstrong's bravery, skill, and dedication to the mission have inspired generations of scientists, engineers, and astronauts\n",
      "\n",
      "I hope this helps! Do you have any other questions about the Apollo 11 mission or Neil Armstrong's achievement?\n"
     ]
    }
   ],
   "source": [
    "from langchain_groq import ChatGroq\n",
    "\n",
    "llm = ChatGroq(\n",
    "    model_name=\"meta-llama/llama-4-maverick-17b-128e-instruct\",\n",
    "    temperature=0,\n",
    "    groq_api_key=api_key\n",
    ")\n",
    "\n",
    "res = llm.invoke(\"the first person to land on mooon\")\n",
    "print(res.content)"
   ]
  },
  {
   "cell_type": "code",
   "execution_count": 3,
   "id": "b840be88-ed64-4d5f-8e81-2fc9cd675531",
   "metadata": {},
   "outputs": [],
   "source": [
    "import chromadb\n",
    "chroma_client = chromadb.Client()"
   ]
  },
  {
   "cell_type": "code",
   "execution_count": 7,
   "id": "6f1a874f-35da-44a2-b604-983844b7d83f",
   "metadata": {},
   "outputs": [],
   "source": [
    "collection = chroma_client.create_collection(name=\"email_agent\")"
   ]
  },
  {
   "cell_type": "code",
   "execution_count": 8,
   "id": "59e84e3e-9322-486d-acda-dd0a11a08cb1",
   "metadata": {},
   "outputs": [
    {
     "name": "stderr",
     "output_type": "stream",
     "text": [
      "/home/deepak/.cache/chroma/onnx_models/all-MiniLM-L6-v2/onnx.tar.gz: 100%|█| 79.\n"
     ]
    }
   ],
   "source": [
    "collection.add(\n",
    "    ids=[\"id1\", \"id2\"],\n",
    "    documents=[\n",
    "        \"This is a document about pineapple\",\n",
    "        \"This is a document about oranges\"\n",
    "    ]\n",
    ")\n"
   ]
  },
  {
   "cell_type": "code",
   "execution_count": 10,
   "id": "d7b1df58-0d4b-493f-b4d9-e4ddf5c9f78e",
   "metadata": {},
   "outputs": [],
   "source": [
    "documents =  collection.get(ids=['id1'])"
   ]
  },
  {
   "cell_type": "code",
   "execution_count": 11,
   "id": "0c53165c-a620-47ab-ba8a-1dcb326d7002",
   "metadata": {},
   "outputs": [
    {
     "data": {
      "text/plain": [
       "{'ids': ['id1'],\n",
       " 'embeddings': None,\n",
       " 'documents': ['This is a document about pineapple'],\n",
       " 'uris': None,\n",
       " 'included': ['metadatas', 'documents'],\n",
       " 'data': None,\n",
       " 'metadatas': [None]}"
      ]
     },
     "execution_count": 11,
     "metadata": {},
     "output_type": "execute_result"
    }
   ],
   "source": [
    "documents"
   ]
  },
  {
   "cell_type": "code",
   "execution_count": 14,
   "id": "e5f5999c-f54c-46a3-b984-30d7d821a77b",
   "metadata": {},
   "outputs": [
    {
     "name": "stdout",
     "output_type": "stream",
     "text": [
      "{'ids': [['id1']], 'embeddings': None, 'documents': [['This is a document about pineapple']], 'uris': None, 'included': ['metadatas', 'documents', 'distances'], 'data': None, 'metadatas': [[None]], 'distances': [[1.5936821699142456]]}\n"
     ]
    }
   ],
   "source": [
    "results = collection.query(\n",
    "    query_texts=[\"query is about nagpur\"], # Chroma will embed this for you\n",
    "    n_results=1 # how many results to return\n",
    ")\n",
    "print(results)\n"
   ]
  },
  {
   "cell_type": "code",
   "execution_count": 18,
   "id": "7b39592f-f9a9-4f08-985c-247a2605bb2c",
   "metadata": {},
   "outputs": [],
   "source": [
    "collection.add(\n",
    "    ids=[\"id3\", \"id4\"],\n",
    "    documents=[\n",
    "        \"This is a document about pineapple\",\n",
    "        \"This is a document about oranges\"\n",
    "    ],\n",
    "    metadatas=[\n",
    "        { \"url\": \"https://en.wikipedia.org/wiki/Pinnacle\"},\n",
    "        {\"url\": \"https://en.wikipedia.org/wiki/Orange\"}\n",
    "    ]\n",
    ")\n"
   ]
  },
  {
   "cell_type": "code",
   "execution_count": 23,
   "id": "9a12d0c7-c8e8-423c-99f7-6483e1e1b4f2",
   "metadata": {},
   "outputs": [],
   "source": [
    "# scrape webpage\n",
    "from langchain_community.document_loaders import WebBaseLoader\n",
    "\n",
    "loader = WebBaseLoader(\"https://www.linkedin.com/jobs/view/4270424474/?alternateChannel=search&eBP=CwEAAAGYOq3aIFXuytXU-1BzwV9z3jpCTNoTw4OIEyAahQhV0w1GG1MFXbR_G3wEjmASjrMIwwn4he3qMI6-DSksAyqNZiVLINsvLEYOqC3eB-xBF-eYcqj3Veh9kuZ6SAF5bZ0MtrFUy0XAgivDGDhXqPKA4LtKZaH8X9PIKp21L0BwRycBJsvRipTmtPc3oOtsy5sVP4C9tcLz0NWjBKKeLkUMWJFQHtvfSN5OV-2rK1ayOWqmixUyculrAsCpqOSD7NOuXPY7uSjcqZ1Yp7mJYOMxCBvF-x_kchIx0XUYkANJfLB_48f1FUX1ev2oWmeqaCRQNkajSx7E9_rCQmPJQRTWmNoUKXw0Lw77SlGcmddnFLzrH4pusIGufca8c15kSZF8p_ExLOhEENpeCRopgU3y-r_1PJZOfM7LebqXawoToByoLESFEV1s_JaEBZZ_YUw44PzOhvThMAQlBvM_VndrQCetLgWPG2ZkufOfPp7CkIvRUjFN98yL4XinQNEtHdxrbGZ6ClP8&refId=4FQt2Osf9o4MkrzyJCfaBw%3D%3D&trackingId=oWpVh03V9FIEbBUua9ybXA%3D%3D\")\n",
    "page_data = loader.load().pop().page_content\n"
   ]
  },
  {
   "cell_type": "code",
   "execution_count": 28,
   "id": "ed0c203d-104a-4bd8-8eac-cd6d6447f272",
   "metadata": {},
   "outputs": [
    {
     "name": "stdout",
     "output_type": "stream",
     "text": [
      "Zeller hiring Sr. Software Engineer (AWS) - Backend in India | LinkedIn Skip to main content LinkedIn Sr. Software Engineer (AWS) - Backend in Mumbai Expand search This button displays the currently selected search type. When expanded it provides a list of search options that will switch the search inputs to match the current selection. Jobs People Learning Clear text Clear text Clear text Clear text Clear text Join now Sign in Sr. Software Engineer (AWS) - Backend Zeller India Apply Join or sign in to find your next job Join to apply for the Sr. Software Engineer (AWS) - Backend role at Zeller Not you? Remove photo First name Last name Email Password (6+ characters) By clicking Agree & Join, you agree to the LinkedIn User Agreement, Privacy Policy and Cookie Policy. Continue Agree & Join or You may also apply directly on company website. Security verification Already on LinkedIn? Sign in Sr. Software Engineer (AWS) - Backend Zeller India 3 days ago 173 applicants See who Zeller has hired for this role Apply Join or sign in to find your next job Join to apply for the Sr. Software Engineer (AWS) - Backend role at Zeller Not you? Remove photo First name Last name Email Password (6+ characters) By clicking Agree & Join, you agree to the LinkedIn User Agreement, Privacy Policy and Cookie Policy. Continue Agree & Join or You may also apply directly on company website. Security verification Already on LinkedIn? Sign in Save Report this job About ZellerAt Zeller, we’re champions for businesses of all sizes, and proud to be a fast-growing Australian scale-up reimagining business banking and payments.We believe in a level playing field, where all businesses benefit from access to smarter payments and financial services solutions that accelerate their cash flow, help them get paid faster, and give them a better understanding of their finances. So we’re hard at work building the tools to make it happen.Zeller is growing fast, backed by leading VCs, and brings together a global team of passionate payment and tech industry professionals. With an exciting roadmap of innovative new products under development, we are building a supportive and high performing team to inspire change in the outdated banking solutions. If you are passionate about innovation, thrive in dynamic environments, embrace new possibilities, hate bureaucracy, and can’t think of anything more exciting than evolving the status-quo, then read on to learn more.Job DescriptionAs a Senior Software Engineer, you will be responsible for architecting and developing cloud native, highlyavailable, robust and secure applications in the AWS environment. You will have experience in web,mobile, backend, API, database development and should have experience in leading a team of software engineers.With automation and maintenance being at the heart of our engineering principles, this position willhave the enviable opportunity to adopt and promote best practices, bleeding edge technologies andtrends. Not limited to a single product area or type, this role will work in a cross functional team withskill sets in full stack software engineering, devops, infrastructure, quality assurance to architect. Youwill collaborate with a cross-disciplinary team to own product software development, contribute andpromote standards and engineering best practices, support operational activities such as; processautomation, compliance activities, SLA upkeep requirements. You’ll be tasked with translating business or product requirements into technical designs, hands-onimplementation of the designs to see through its testing and deployment into various environmentssuch as; development, stress testing, integration testing, staging and production. You will enjoy thefun of development from scratch in some application components while adhering to the companyengineering standards, frameworks and best practices. You will also be a collaborative engineercapable of observing and contributing to existing works by other team members. Automation and maintenance is key, you will be excited to see through your contributions into production and maintaintheir longevity in the mission-critical environment.Role Responsibilities And ExperiencesAnalytical and be able to work with fuzzy requirements Methodologically translate discussions with stakeholders, documents, own researchfindings into technical designs and implementation stepsPrior Experience in handling a team of software engineers.Build to last and go production mindset versus build as proof-of-concept Strong background in softwareengineering and design patterns Experience in microservices and serverless architecture Knowledge in architecture patterns such as; CQRS, event-sourcing Design, develop, and deploy microservices and serverless applications using Node.js , TypeScript, and AWSUnit tests using Jest -, along with Supertest and Postman as supporting tools. Experience with NestJs Good knowledge in multi-threaded and socket programming Instinctive desire to maintain code quality,tidiness and zero technical debtStrong understanding of testing practices (TDD/BDD), with tools like Jest, Supertest, and PostmanGood with API and its design/protocol e.g. Restful, Websocket, SOAP Good understanding of Request/Response vs Async protocol Familiarity with production-grade monitoring, logging, and alertingCan work with various databases to match query and storage requirements e.g. DynamoDB ,SQL, DocumentDB Build and maintain scalable REST APIs integrated with DynamoDB, S3, SNS/SQS, Step Functions, and LambdaExperience in cloud native architecture Understanding of data lake and data warehousing Knowledge in secured coding e.g. OWASP, XSS, CORS Experience in authentication standards and platforms e.g. JWT, OAuth, IdentityFederationExperience in AWS Cloud environment AWS Serverless architectureMicroservicesBlue Green DeploymentsOwn CI/CD processes using CodePipeline,CodeBuild, and CodeDeployInfrastructure As a Code (IAC): Terraform, CloudformationAWS Devops SNS, SQS, EventBridge, Step Functions ElastiCache Loading Balancing, Route53, CloudFront, ECS,ECR, Auto-Scaling S3, RDS,DynamoDB,DocumentDB CodePipeline, CodeBuild, CodeDeployImprove observability using CloudWatch, X-Ray, and other monitoring toolsProven track record in developing and maintaining mission-critical high-load productionsystems with SLA 99.999 % Proven track record in supporting rapid and agile product deployments to different Contribute to and evolve our technical architecture and engineering processesParticipate in system design and architecture reviewsenvironments - dev, test, stress-testing, staging/production. AttributesLoves challenging the status-quo Ability to work autonomously yet collaboratively Prepared to be bold yet consistent with your engineering principles Logical, ethnical, mature and responsible Fast learner, humble and loves to share knowledge Calm and exercises positive level of stress in exceptional circumstances such as;production issues, timeline requirements Qualifications And ExperienceMinimum of a Bachelor degree in software engineering (or related) 5+ years of working experience in a technical hands on software engineering roleDemonstrable experiences in developing mission-critical systemsBonus PointsExperience in fintech.AWS Certified Solutions Architect (Associate or Professional)Experience in working within a high-growth environmentExperience in other programming languages Experience in payments Exposure to Domain-Driven Design (DDD)Experience with PCI compliant environments (PCI-DSS, etc) Like the rest of our team, you will benefit from Competitive remunerationA balanced, progressive, and supportive work environment;Excellent parental leave and other leave entitlements;Fully remote roleAnnual get together with the teamEndless learning and development opportunities;Plenty of remote friendly fun and social opportunities - we love to come together as a team;An ability to influence and shape the future of Zeller as our company scales both domestically and globally;Being part of one of Australia’s most exciting scale-ups. Show more Show less Seniority level Mid-Senior level Employment type Full-time Job function Engineering and Information Technology Industries Financial Services Referrals increase your chances of interviewing at Zeller by 2x See who you know Get notified when a new job is posted. Set alert Sign in to set job alerts for “Senior Software Engineer” roles. Sign in Welcome back Email or phone Password Show Forgot password? Sign in or By clicking Continue to join or sign in, you agree to LinkedIn’s User Agreement, Privacy Policy, and Cookie Policy. New to LinkedIn? Join now or New to LinkedIn? Join now By clicking Continue to join or sign in, you agree to LinkedIn’s User Agreement, Privacy Policy, and Cookie Policy. Similar jobs Lead Software Development Engineer (SDE II Lead Software Development Engineer (SDE II Landmark Group Bengaluru, Karnataka, India 1 month ago Senior SDE Security ( Full Time, Remote) Senior SDE Security ( Full Time, Remote) Hike India 2 weeks ago Senior Engineer (Full Stack Developer) Senior Engineer (Full Stack Developer) Theratech.ai India 3 weeks ago Senior C++ Developer for Pro Tools (India) Senior C++ Developer for Pro Tools (India) Avid India 6 days ago Semi Senior Python Developer - Remote Work | REF#283706 Semi Senior Python Developer - Remote Work | REF#283706 BairesDev Bhopal, Madhya Pradesh, India 3 weeks ago Founding Sr. Software Engineer: No Salary Only Equity Founding Sr. Software Engineer: No Salary Only Equity Truxt.ai India 5 days ago Best Work from Home Jobs in Pune for IT Professionals Best Work from Home Jobs in Pune for IT Professionals Career Cartz Patel Nagar, Delhi, India 1 month ago Senior Fullstack Python Developer - Remote Work | REF#282823 Senior Fullstack Python Developer - Remote Work | REF#282823 BairesDev Bengaluru, Karnataka, India 3 weeks ago Semi Senior React Developer - Remote Work | REF#283642 Semi Senior React Developer - Remote Work | REF#283642 BairesDev Kochi, Kerala, India 3 weeks ago Senior Java Technical Support Engineer - Remote Work | REF#284424 Senior Java Technical Support Engineer - Remote Work | REF#284424 BairesDev New Delhi, Delhi, India 3 weeks ago Senior Software Engineer Senior Software Engineer Uplers India 1 week ago IN-Senior Associate _ SAP Datasphere developer (SAP Datasphere, SAC (SAP Analytics on Cloud)) _Advisory corporate _ Advisory _ Bangalore IN-Senior Associate _ SAP Datasphere developer (SAP Datasphere, SAC (SAP Analytics on Cloud)) _Advisory corporate _ Advisory _ Bangalore PwC India Bengaluru, Karnataka, India 1 week ago Senior Manager - Guidewire Developer Senior Manager - Guidewire Developer BlitzenX India 1 month ago Senior Software Engineer (Snowflake Database Administrator) Senior Software Engineer (Snowflake Database Administrator) Veradigm® India 1 week ago Principal Stat Programmer (ADAM + TFL) Principal Stat Programmer (ADAM + TFL) Syneos Health India 1 month ago Senior Instructional Designer / eLearning Developer Senior Instructional Designer / eLearning Developer Teradata Navi Mumbai, Maharashtra, India 2 weeks ago Digital Solutions - NetSuite Center of Excellence - Senior Consultant II (NetSuite Developer) (Location: India) Digital Solutions - NetSuite Center of Excellence - Senior Consultant II (NetSuite Developer) (Location: India) Connor Group Pune, Maharashtra, India 1 week ago AES Guidewire PolicyCenter Lead Developer senior Associate - Consult AES Guidewire PolicyCenter Lead Developer senior Associate - Consult PwC Acceleration Center India Bengaluru, Karnataka, India 1 day ago AES Guidewire Lead Developer - Billing Center Senior Associate - Consult AES Guidewire Lead Developer - Billing Center Senior Associate - Consult PwC Acceleration Center India Bengaluru, Karnataka, India 2 days ago AES- Guidewire Senior Associate (Sr. Analyst) - Guidewire Lead Developer Digital Portal - Operate AES- Guidewire Senior Associate (Sr. Analyst) - Guidewire Lead Developer Digital Portal - Operate PwC Acceleration Center India Bengaluru, Karnataka, India 2 days ago Principal Biostatistical Programmer Principal Biostatistical Programmer Premier Research India 2 weeks ago Principal Biostatistical Programmer Principal Biostatistical Programmer Premier Research India 5 days ago AES Guidewire Senior Developer (BC) Senior Associate - Consult AES Guidewire Senior Developer (BC) Senior Associate - Consult PwC Acceleration Center India Bengaluru, Karnataka, India 2 days ago AES Guidewire Lead Developer - Billing Center Senior Associate - Consult AES Guidewire Lead Developer - Billing Center Senior Associate - Consult PwC Acceleration Center India Bengaluru, Karnataka, India 2 days ago AES Guidewire Senior Developer - BillingCenter Associate - Consult AES Guidewire Senior Developer - BillingCenter Associate - Consult PwC Acceleration Center India Bengaluru, Karnataka, India 2 days ago AES Guidewire ClaimCenter Lead Developer Senior Associate (Sr. Analyst) - Consult AES Guidewire ClaimCenter Lead Developer Senior Associate (Sr. Analyst) - Consult PwC Acceleration Center India Bengaluru, Karnataka, India 2 days ago AES Guidewire BillingCenter Lead Developer Senior Associate - Consult AES Guidewire BillingCenter Lead Developer Senior Associate - Consult PwC Acceleration Center India Bengaluru, Karnataka, India 2 days ago Show more jobs like this Show fewer jobs like this People also viewed AES Guidewire ClaimCenter Lead Developer Senior Associate (Sr. Analyst) - Operate AES Guidewire ClaimCenter Lead Developer Senior Associate (Sr. Analyst) - Operate PwC Acceleration Center India Bengaluru, Karnataka, India 2 days ago AES Guidewire Integration Lead Developer Senior Associate - Consult AES Guidewire Integration Lead Developer Senior Associate - Consult PwC Acceleration Center India Bengaluru, Karnataka, India 2 days ago AES Guidewire Senior Developer - ClaimCenter - Associate Operate AES Guidewire Senior Developer - ClaimCenter - Associate Operate PwC Acceleration Center India Hyderabad, Telangana, India 2 days ago AES- Guidewire Associate (Analyst) - Guidewire Senior Developer - PolicyCenter - Operate AES- Guidewire Associate (Analyst) - Guidewire Senior Developer - PolicyCenter - Operate PwC Acceleration Center India Bengaluru, Karnataka, India 2 days ago Sr. SDE Backend (Full Time, Remote) Sr. SDE Backend (Full Time, Remote) Hike India 1 day ago Senior Software Engineer Senior Software Engineer Microsoft Bengaluru, Karnataka, India 3 days ago Remote - SDE 2 - Logistiq Remote - SDE 2 - Logistiq Landmark Group India 6 months ago Senior Staff SDE ( Full Time, Remote) Senior Staff SDE ( Full Time, Remote) Hike India 2 weeks ago Senior Backend Software Engineer Senior Backend Software Engineer Atlassian Bengaluru, Karnataka, India 1 day ago Principal Backend Software Engineer Principal Backend Software Engineer Atlassian India 1 week ago Similar Searches Staff Software Engineer jobs 11,667 open jobs Lead Software Engineer jobs 14,294 open jobs Principal Software Engineer jobs 12,675 open jobs Senior Java Software Engineer jobs 14,340 open jobs Senior Staff Software Engineer jobs 9,357 open jobs Senior System Software Engineer jobs 8,592 open jobs Java Software Engineer jobs 11,988 open jobs Software Engineering Team Lead jobs 56,362 open jobs Full Stack Engineer jobs 4,505 open jobs Senior Dotnet Developer jobs 11,806 open jobs Senior Software Architect jobs 10,429 open jobs Senior Information Developer jobs 176 open jobs Senior Software Consultant jobs 10,494 open jobs Coldfusion Developer jobs 6,494 open jobs Software Architect jobs 23,965 open jobs Senior Principal Software Engineer jobs 9,257 open jobs Senior Embedded Engineer jobs 8,110 open jobs Contract Software Engineer jobs 6,762 open jobs Senior Web Developer jobs 9,040 open jobs Technical Lead Developer jobs 8,964 open jobs Software Engineer jobs 59,663 open jobs Software Team Lead jobs 23,723 open jobs Java Team Lead jobs 8,156 open jobs Java Application Developer jobs 7,582 open jobs Lotus Notes Domino Developer jobs 21 open jobs Show more Show less Explore collaborative articles We’re unlocking community knowledge in a new way. Experts add insights directly into each article, started with the help of AI. Explore More More searches More searches Staff Software Engineer jobs Lead Software Engineer jobs Principal Software Engineer jobs Senior Java Software Engineer jobs Senior Staff Software Engineer jobs Senior System Software Engineer jobs Java Software Engineer jobs Software Engineering Team Lead jobs Full Stack Engineer jobs Senior Dotnet Developer jobs Senior Software Architect jobs Senior Information Developer jobs Senior Software Consultant jobs Coldfusion Developer jobs Software Architect jobs Senior Principal Software Engineer jobs Unnati jobs Senior Embedded Engineer jobs Contract Software Engineer jobs Senior Web Developer jobs Technical Lead Developer jobs Software Engineer jobs Software Team Lead jobs Java Team Lead jobs Java Application Developer jobs Lotus Notes Domino Developer jobs Senior Developer jobs Lead Application Developer jobs Software Engineering Manager jobs Ruby on Rails Developer jobs Senior Engineer jobs Senior PHP Developer jobs Engineer jobs Software Lead jobs Senior Embedded Software Engineer jobs Senior Frontend Developer jobs Front End Architect jobs Performance Test Consultant jobs Developer jobs Java Developer Contract jobs Lead Java Developer jobs Android Developer jobs Dotnet Developer jobs Javascript Developer jobs Scala Developer jobs PHP Developer jobs Senior Software Tester jobs Software System Architect jobs Java Architect jobs C Developer jobs Java Consultant jobs Principal Engineer jobs iOS Developer jobs Mobile Application Developer jobs Magento Developer jobs Embedded Software Engineer jobs Senior Firmware Engineer jobs Senior Software Project Manager jobs Application Developer jobs Staff Engineer jobs LinkedIn © 2025 About Accessibility User Agreement Privacy Policy Cookie Policy Copyright Policy Brand Policy Guest Controls Community Guidelines العربية (Arabic) বাংলা (Bangla) Čeština (Czech) Dansk (Danish) Deutsch (German) Ελληνικά (Greek) English (English) Español (Spanish) فارسی (Persian) Suomi (Finnish) Français (French) हिंदी (Hindi) Magyar (Hungarian) Bahasa Indonesia (Indonesian) Italiano (Italian) עברית (Hebrew) 日本語 (Japanese) 한국어 (Korean) मराठी (Marathi) Bahasa Malaysia (Malay) Nederlands (Dutch) Norsk (Norwegian) ਪੰਜਾਬੀ (Punjabi) Polski (Polish) Português (Portuguese) Română (Romanian) Русский (Russian) Svenska (Swedish) తెలుగు (Telugu) ภาษาไทย (Thai) Tagalog (Tagalog) Türkçe (Turkish) Українська (Ukrainian) Tiếng Việt (Vietnamese) 简体中文 (Chinese (Simplified)) 正體中文 (Chinese (Traditional)) Language Agree & Join LinkedIn By clicking Continue to join or sign in, you agree to LinkedIn’s User Agreement, Privacy Policy, and Cookie Policy. Sign in to see who you already know at Zeller Sign in Welcome back Email or phone Password Show Forgot password? Sign in or By clicking Continue to join or sign in, you agree to LinkedIn’s User Agreement, Privacy Policy, and Cookie Policy. New to LinkedIn? Join now or New to LinkedIn? Join now By clicking Continue to join or sign in, you agree to LinkedIn’s User Agreement, Privacy Policy, and Cookie Policy.\n"
     ]
    }
   ],
   "source": [
    "import re\n",
    "\n",
    "# Remove repeated newlines and excessive spaces\n",
    "cleaned_text = re.sub(r'\\s+', ' ', page_data).strip()\n",
    "\n",
    "print(cleaned_text)"
   ]
  },
  {
   "cell_type": "code",
   "execution_count": 41,
   "id": "fbb30f7d-022c-43dc-b96f-d936ef42a318",
   "metadata": {},
   "outputs": [
    {
     "data": {
      "text/plain": [
       "str"
      ]
     },
     "execution_count": 41,
     "metadata": {},
     "output_type": "execute_result"
    }
   ],
   "source": [
    "from langchain_core.prompts import PromptTemplate\n",
    "\n",
    "prompt_extract = PromptTemplate.from_template(\n",
    "        \"\"\"\n",
    "        ### SCRAPED TEXT FROM WEBSITE:\n",
    "        {page_data}\n",
    "        ### INSTRUCTION:\n",
    "        The scraped text is from the career's page of a website.\n",
    "        Your job is to extract the job postings and return them in JSON format containing the \n",
    "        following keys: `role`, `experience`, `skills` and `description`.\n",
    "        Only return the valid JSON.\n",
    "        ### VALID JSON (NO PREAMBLE):    \n",
    "        \"\"\"\n",
    ")\n",
    "\n",
    "chain_extract = prompt_extract | llm \n",
    "res = chain_extract.invoke(input={'page_data':cleaned_text})\n",
    "type(res.content)"
   ]
  },
  {
   "cell_type": "code",
   "execution_count": 42,
   "id": "e6dfed59-af3f-448a-bedc-726069bf9ce5",
   "metadata": {},
   "outputs": [
    {
     "name": "stdout",
     "output_type": "stream",
     "text": [
      "content='```json\\n{\\n    \"role\": \"Sr. Software Engineer (AWS) - Backend\",\\n    \"experience\": \"5+ years of working experience in a technical hands-on software engineering role\",\\n    \"skills\": [\\n        \"Node.js\",\\n        \"TypeScript\",\\n        \"AWS\",\\n        \"Microservices\",\\n        \"Serverless architecture\",\\n        \"CQRS\",\\n        \"Event-sourcing\",\\n        \"Jest\",\\n        \"Supertest\",\\n        \"Postman\",\\n        \"NestJs\",\\n        \"Multi-threaded programming\",\\n        \"Socket programming\",\\n        \"DynamoDB\",\\n        \"SQL\",\\n        \"DocumentDB\",\\n        \"S3\",\\n        \"SNS/SQS\",\\n        \"Step Functions\",\\n        \"Lambda\",\\n        \"Cloud native architecture\",\\n        \"Terraform\",\\n        \"Cloudformation\",\\n        \"CodePipeline\",\\n        \"CodeBuild\",\\n        \"CodeDeploy\",\\n        \"CloudWatch\",\\n        \"X-Ray\"\\n    ],\\n    \"description\": \"As a Senior Software Engineer, you will be responsible for architecting and developing cloud-native, highly available, robust, and secure applications in the AWS environment. You will have experience in web, mobile, backend, API, database development, and should have experience in leading a team of software engineers.\"\\n}\\n```' additional_kwargs={} response_metadata={'token_usage': {'completion_tokens': 255, 'prompt_tokens': 3788, 'total_tokens': 4043, 'completion_time': 0.539392794, 'prompt_time': 0.111665984, 'queue_time': 0.6624856560000001, 'total_time': 0.651058778}, 'model_name': 'meta-llama/llama-4-maverick-17b-128e-instruct', 'system_fingerprint': 'fp_c527aa4474', 'service_tier': 'on_demand', 'finish_reason': 'stop', 'logprobs': None} id='run--d69e9fe4-ea32-4519-84f9-36d1d7df6a94-0' usage_metadata={'input_tokens': 3788, 'output_tokens': 255, 'total_tokens': 4043} <class 'langchain_core.messages.ai.AIMessage'>\n"
     ]
    }
   ],
   "source": [
    "print(res, type(res))"
   ]
  },
  {
   "cell_type": "code",
   "execution_count": 43,
   "id": "1140b8dd-1b83-4673-b49e-eb9ec6d05f45",
   "metadata": {},
   "outputs": [
    {
     "data": {
      "text/plain": [
       "{'role': 'Sr. Software Engineer (AWS) - Backend',\n",
       " 'experience': '5+ years of working experience in a technical hands-on software engineering role',\n",
       " 'skills': ['Node.js',\n",
       "  'TypeScript',\n",
       "  'AWS',\n",
       "  'Microservices',\n",
       "  'Serverless architecture',\n",
       "  'CQRS',\n",
       "  'Event-sourcing',\n",
       "  'Jest',\n",
       "  'Supertest',\n",
       "  'Postman',\n",
       "  'NestJs',\n",
       "  'Multi-threaded programming',\n",
       "  'Socket programming',\n",
       "  'DynamoDB',\n",
       "  'SQL',\n",
       "  'DocumentDB',\n",
       "  'S3',\n",
       "  'SNS/SQS',\n",
       "  'Step Functions',\n",
       "  'Lambda',\n",
       "  'Cloud native architecture',\n",
       "  'Terraform',\n",
       "  'Cloudformation',\n",
       "  'CodePipeline',\n",
       "  'CodeBuild',\n",
       "  'CodeDeploy',\n",
       "  'CloudWatch',\n",
       "  'X-Ray'],\n",
       " 'description': 'As a Senior Software Engineer, you will be responsible for architecting and developing cloud-native, highly available, robust, and secure applications in the AWS environment. You will have experience in web, mobile, backend, API, database development, and should have experience in leading a team of software engineers.'}"
      ]
     },
     "execution_count": 43,
     "metadata": {},
     "output_type": "execute_result"
    }
   ],
   "source": [
    "from langchain_core.output_parsers import JsonOutputParser\n",
    "\n",
    "json_parser = JsonOutputParser()\n",
    "json_res = json_parser.parse(res.content)\n",
    "json_res"
   ]
  },
  {
   "cell_type": "code",
   "execution_count": 45,
   "id": "9a59c92a-ae50-41de-a19f-9dd19ce252bc",
   "metadata": {},
   "outputs": [
    {
     "data": {
      "text/html": [
       "<div>\n",
       "<style scoped>\n",
       "    .dataframe tbody tr th:only-of-type {\n",
       "        vertical-align: middle;\n",
       "    }\n",
       "\n",
       "    .dataframe tbody tr th {\n",
       "        vertical-align: top;\n",
       "    }\n",
       "\n",
       "    .dataframe thead th {\n",
       "        text-align: right;\n",
       "    }\n",
       "</style>\n",
       "<table border=\"1\" class=\"dataframe\">\n",
       "  <thead>\n",
       "    <tr style=\"text-align: right;\">\n",
       "      <th></th>\n",
       "      <th>Techstack</th>\n",
       "      <th>Links</th>\n",
       "    </tr>\n",
       "  </thead>\n",
       "  <tbody>\n",
       "    <tr>\n",
       "      <th>0</th>\n",
       "      <td>React, Node.js, MongoDB</td>\n",
       "      <td>https://example.com/react-portfolio</td>\n",
       "    </tr>\n",
       "    <tr>\n",
       "      <th>1</th>\n",
       "      <td>Angular,.NET, SQL Server</td>\n",
       "      <td>https://example.com/angular-portfolio</td>\n",
       "    </tr>\n",
       "    <tr>\n",
       "      <th>2</th>\n",
       "      <td>Vue.js, Ruby on Rails, PostgreSQL</td>\n",
       "      <td>https://example.com/vue-portfolio</td>\n",
       "    </tr>\n",
       "    <tr>\n",
       "      <th>3</th>\n",
       "      <td>Python, Django, MySQL</td>\n",
       "      <td>https://example.com/python-portfolio</td>\n",
       "    </tr>\n",
       "    <tr>\n",
       "      <th>4</th>\n",
       "      <td>Java, Spring Boot, Oracle</td>\n",
       "      <td>https://example.com/java-portfolio</td>\n",
       "    </tr>\n",
       "    <tr>\n",
       "      <th>5</th>\n",
       "      <td>Flutter, Firebase, GraphQL</td>\n",
       "      <td>https://example.com/flutter-portfolio</td>\n",
       "    </tr>\n",
       "    <tr>\n",
       "      <th>6</th>\n",
       "      <td>WordPress, PHP, MySQL</td>\n",
       "      <td>https://example.com/wordpress-portfolio</td>\n",
       "    </tr>\n",
       "    <tr>\n",
       "      <th>7</th>\n",
       "      <td>Magento, PHP, MySQL</td>\n",
       "      <td>https://example.com/magento-portfolio</td>\n",
       "    </tr>\n",
       "    <tr>\n",
       "      <th>8</th>\n",
       "      <td>React Native, Node.js, MongoDB</td>\n",
       "      <td>https://example.com/react-native-portfolio</td>\n",
       "    </tr>\n",
       "    <tr>\n",
       "      <th>9</th>\n",
       "      <td>iOS, Swift, Core Data</td>\n",
       "      <td>https://example.com/ios-portfolio</td>\n",
       "    </tr>\n",
       "    <tr>\n",
       "      <th>10</th>\n",
       "      <td>Android, Java, Room Persistence</td>\n",
       "      <td>https://example.com/android-portfolio</td>\n",
       "    </tr>\n",
       "    <tr>\n",
       "      <th>11</th>\n",
       "      <td>Kotlin, Android, Firebase</td>\n",
       "      <td>https://example.com/kotlin-android-portfolio</td>\n",
       "    </tr>\n",
       "    <tr>\n",
       "      <th>12</th>\n",
       "      <td>Android TV, Kotlin, Android NDK</td>\n",
       "      <td>https://example.com/android-tv-portfolio</td>\n",
       "    </tr>\n",
       "    <tr>\n",
       "      <th>13</th>\n",
       "      <td>iOS, Swift, ARKit</td>\n",
       "      <td>https://example.com/ios-ar-portfolio</td>\n",
       "    </tr>\n",
       "    <tr>\n",
       "      <th>14</th>\n",
       "      <td>Cross-platform, Xamarin, Azure</td>\n",
       "      <td>https://example.com/xamarin-portfolio</td>\n",
       "    </tr>\n",
       "    <tr>\n",
       "      <th>15</th>\n",
       "      <td>Backend, Kotlin, Spring Boot</td>\n",
       "      <td>https://example.com/kotlin-backend-portfolio</td>\n",
       "    </tr>\n",
       "    <tr>\n",
       "      <th>16</th>\n",
       "      <td>Frontend, TypeScript, Angular</td>\n",
       "      <td>https://example.com/typescript-frontend-portfolio</td>\n",
       "    </tr>\n",
       "    <tr>\n",
       "      <th>17</th>\n",
       "      <td>Full-stack, JavaScript, Express.js</td>\n",
       "      <td>https://example.com/full-stack-js-portfolio</td>\n",
       "    </tr>\n",
       "    <tr>\n",
       "      <th>18</th>\n",
       "      <td>Machine Learning, Python, TensorFlow</td>\n",
       "      <td>https://example.com/ml-python-portfolio</td>\n",
       "    </tr>\n",
       "    <tr>\n",
       "      <th>19</th>\n",
       "      <td>DevOps, Jenkins, Docker</td>\n",
       "      <td>https://example.com/devops-portfolio</td>\n",
       "    </tr>\n",
       "  </tbody>\n",
       "</table>\n",
       "</div>"
      ],
      "text/plain": [
       "                               Techstack  \\\n",
       "0                React, Node.js, MongoDB   \n",
       "1               Angular,.NET, SQL Server   \n",
       "2      Vue.js, Ruby on Rails, PostgreSQL   \n",
       "3                  Python, Django, MySQL   \n",
       "4              Java, Spring Boot, Oracle   \n",
       "5             Flutter, Firebase, GraphQL   \n",
       "6                  WordPress, PHP, MySQL   \n",
       "7                    Magento, PHP, MySQL   \n",
       "8         React Native, Node.js, MongoDB   \n",
       "9                  iOS, Swift, Core Data   \n",
       "10       Android, Java, Room Persistence   \n",
       "11             Kotlin, Android, Firebase   \n",
       "12       Android TV, Kotlin, Android NDK   \n",
       "13                     iOS, Swift, ARKit   \n",
       "14        Cross-platform, Xamarin, Azure   \n",
       "15          Backend, Kotlin, Spring Boot   \n",
       "16         Frontend, TypeScript, Angular   \n",
       "17    Full-stack, JavaScript, Express.js   \n",
       "18  Machine Learning, Python, TensorFlow   \n",
       "19               DevOps, Jenkins, Docker   \n",
       "\n",
       "                                                Links  \n",
       "0                 https://example.com/react-portfolio  \n",
       "1               https://example.com/angular-portfolio  \n",
       "2                   https://example.com/vue-portfolio  \n",
       "3                https://example.com/python-portfolio  \n",
       "4                  https://example.com/java-portfolio  \n",
       "5               https://example.com/flutter-portfolio  \n",
       "6             https://example.com/wordpress-portfolio  \n",
       "7               https://example.com/magento-portfolio  \n",
       "8          https://example.com/react-native-portfolio  \n",
       "9                   https://example.com/ios-portfolio  \n",
       "10              https://example.com/android-portfolio  \n",
       "11       https://example.com/kotlin-android-portfolio  \n",
       "12           https://example.com/android-tv-portfolio  \n",
       "13               https://example.com/ios-ar-portfolio  \n",
       "14              https://example.com/xamarin-portfolio  \n",
       "15       https://example.com/kotlin-backend-portfolio  \n",
       "16  https://example.com/typescript-frontend-portfolio  \n",
       "17        https://example.com/full-stack-js-portfolio  \n",
       "18            https://example.com/ml-python-portfolio  \n",
       "19               https://example.com/devops-portfolio  "
      ]
     },
     "execution_count": 45,
     "metadata": {},
     "output_type": "execute_result"
    }
   ],
   "source": [
    "import pandas as pd\n",
    "\n",
    "df = pd.read_csv(\"my_portfolio.csv\")\n",
    "df"
   ]
  },
  {
   "cell_type": "code",
   "execution_count": 46,
   "id": "46f118ed-a94b-4902-99d6-a06a411297f0",
   "metadata": {},
   "outputs": [],
   "source": [
    "import uuid\n",
    "import chromadb\n",
    "\n",
    "client = chromadb.PersistentClient('vectorstore')\n",
    "collection = client.get_or_create_collection(name=\"portfolio\")\n",
    "\n",
    "if not collection.count():\n",
    "    for _, row in df.iterrows():\n",
    "        collection.add(documents=row[\"Techstack\"],\n",
    "                       metadatas={\"links\": row[\"Links\"]},\n",
    "                       ids=[str(uuid.uuid4())])"
   ]
  },
  {
   "cell_type": "code",
   "execution_count": 49,
   "id": "c814b8df-569f-4dbc-b36c-0f9a29c9a247",
   "metadata": {},
   "outputs": [
    {
     "data": {
      "text/plain": [
       "[[{'links': 'https://example.com/react-portfolio'},\n",
       "  {'links': 'https://example.com/full-stack-js-portfolio'}],\n",
       " [{'links': 'https://example.com/typescript-frontend-portfolio'},\n",
       "  {'links': 'https://example.com/full-stack-js-portfolio'}],\n",
       " [{'links': 'https://example.com/ios-ar-portfolio'},\n",
       "  {'links': 'https://example.com/wordpress-portfolio'}],\n",
       " [{'links': 'https://example.com/xamarin-portfolio'},\n",
       "  {'links': 'https://example.com/magento-portfolio'}],\n",
       " [{'links': 'https://example.com/angular-portfolio'},\n",
       "  {'links': 'https://example.com/full-stack-js-portfolio'}],\n",
       " [{'links': 'https://example.com/flutter-portfolio'},\n",
       "  {'links': 'https://example.com/full-stack-js-portfolio'}],\n",
       " [{'links': 'https://example.com/flutter-portfolio'},\n",
       "  {'links': 'https://example.com/ml-python-portfolio'}],\n",
       " [{'links': 'https://example.com/react-portfolio'},\n",
       "  {'links': 'https://example.com/full-stack-js-portfolio'}],\n",
       " [{'links': 'https://example.com/ml-python-portfolio'},\n",
       "  {'links': 'https://example.com/kotlin-backend-portfolio'}],\n",
       " [{'links': 'https://example.com/vue-portfolio'},\n",
       "  {'links': 'https://example.com/devops-portfolio'}],\n",
       " [{'links': 'https://example.com/full-stack-js-portfolio'},\n",
       "  {'links': 'https://example.com/react-portfolio'}],\n",
       " [{'links': 'https://example.com/ml-python-portfolio'},\n",
       "  {'links': 'https://example.com/magento-portfolio'}],\n",
       " [{'links': 'https://example.com/magento-portfolio'},\n",
       "  {'links': 'https://example.com/android-portfolio'}],\n",
       " [{'links': 'https://example.com/flutter-portfolio'},\n",
       "  {'links': 'https://example.com/kotlin-android-portfolio'}],\n",
       " [{'links': 'https://example.com/magento-portfolio'},\n",
       "  {'links': 'https://example.com/wordpress-portfolio'}],\n",
       " [{'links': 'https://example.com/wordpress-portfolio'},\n",
       "  {'links': 'https://example.com/magento-portfolio'}],\n",
       " [{'links': 'https://example.com/kotlin-android-portfolio'},\n",
       "  {'links': 'https://example.com/java-portfolio'}],\n",
       " [{'links': 'https://example.com/full-stack-js-portfolio'},\n",
       "  {'links': 'https://example.com/magento-portfolio'}],\n",
       " [{'links': 'https://example.com/ml-python-portfolio'},\n",
       "  {'links': 'https://example.com/devops-portfolio'}],\n",
       " [{'links': 'https://example.com/ios-ar-portfolio'},\n",
       "  {'links': 'https://example.com/ml-python-portfolio'}],\n",
       " [{'links': 'https://example.com/xamarin-portfolio'},\n",
       "  {'links': 'https://example.com/ios-ar-portfolio'}],\n",
       " [{'links': 'https://example.com/devops-portfolio'},\n",
       "  {'links': 'https://example.com/kotlin-backend-portfolio'}],\n",
       " [{'links': 'https://example.com/xamarin-portfolio'},\n",
       "  {'links': 'https://example.com/ml-python-portfolio'}],\n",
       " [{'links': 'https://example.com/ml-python-portfolio'},\n",
       "  {'links': 'https://example.com/ios-ar-portfolio'}],\n",
       " [{'links': 'https://example.com/ios-ar-portfolio'},\n",
       "  {'links': 'https://example.com/magento-portfolio'}],\n",
       " [{'links': 'https://example.com/ml-python-portfolio'},\n",
       "  {'links': 'https://example.com/ios-ar-portfolio'}],\n",
       " [{'links': 'https://example.com/xamarin-portfolio'},\n",
       "  {'links': 'https://example.com/ios-ar-portfolio'}],\n",
       " [{'links': 'https://example.com/xamarin-portfolio'},\n",
       "  {'links': 'https://example.com/ios-ar-portfolio'}]]"
      ]
     },
     "execution_count": 49,
     "metadata": {},
     "output_type": "execute_result"
    }
   ],
   "source": [
    "links = collection.query(query_texts=json_res['skills'], n_results=2).get('metadatas', [])\n",
    "links"
   ]
  },
  {
   "cell_type": "code",
   "execution_count": 50,
   "id": "4df6365b-c849-4696-bd3a-86026fc03b64",
   "metadata": {},
   "outputs": [
    {
     "data": {
      "text/plain": [
       "{'role': 'Sr. Software Engineer (AWS) - Backend',\n",
       " 'experience': '5+ years of working experience in a technical hands-on software engineering role',\n",
       " 'skills': ['Node.js',\n",
       "  'TypeScript',\n",
       "  'AWS',\n",
       "  'Microservices',\n",
       "  'Serverless architecture',\n",
       "  'CQRS',\n",
       "  'Event-sourcing',\n",
       "  'Jest',\n",
       "  'Supertest',\n",
       "  'Postman',\n",
       "  'NestJs',\n",
       "  'Multi-threaded programming',\n",
       "  'Socket programming',\n",
       "  'DynamoDB',\n",
       "  'SQL',\n",
       "  'DocumentDB',\n",
       "  'S3',\n",
       "  'SNS/SQS',\n",
       "  'Step Functions',\n",
       "  'Lambda',\n",
       "  'Cloud native architecture',\n",
       "  'Terraform',\n",
       "  'Cloudformation',\n",
       "  'CodePipeline',\n",
       "  'CodeBuild',\n",
       "  'CodeDeploy',\n",
       "  'CloudWatch',\n",
       "  'X-Ray'],\n",
       " 'description': 'As a Senior Software Engineer, you will be responsible for architecting and developing cloud-native, highly available, robust, and secure applications in the AWS environment. You will have experience in web, mobile, backend, API, database development, and should have experience in leading a team of software engineers.'}"
      ]
     },
     "execution_count": 50,
     "metadata": {},
     "output_type": "execute_result"
    }
   ],
   "source": [
    "json_res"
   ]
  },
  {
   "cell_type": "code",
   "execution_count": 51,
   "id": "f912464c-b3a5-43ac-b6e7-e6d43721d8a8",
   "metadata": {},
   "outputs": [
    {
     "data": {
      "text/plain": [
       "['Node.js',\n",
       " 'TypeScript',\n",
       " 'AWS',\n",
       " 'Microservices',\n",
       " 'Serverless architecture',\n",
       " 'CQRS',\n",
       " 'Event-sourcing',\n",
       " 'Jest',\n",
       " 'Supertest',\n",
       " 'Postman',\n",
       " 'NestJs',\n",
       " 'Multi-threaded programming',\n",
       " 'Socket programming',\n",
       " 'DynamoDB',\n",
       " 'SQL',\n",
       " 'DocumentDB',\n",
       " 'S3',\n",
       " 'SNS/SQS',\n",
       " 'Step Functions',\n",
       " 'Lambda',\n",
       " 'Cloud native architecture',\n",
       " 'Terraform',\n",
       " 'Cloudformation',\n",
       " 'CodePipeline',\n",
       " 'CodeBuild',\n",
       " 'CodeDeploy',\n",
       " 'CloudWatch',\n",
       " 'X-Ray']"
      ]
     },
     "execution_count": 51,
     "metadata": {},
     "output_type": "execute_result"
    }
   ],
   "source": [
    "job = json_res\n",
    "job['skills']"
   ]
  },
  {
   "cell_type": "code",
   "execution_count": 53,
   "id": "dc905810-92a1-43a0-9545-4e820f63adf0",
   "metadata": {},
   "outputs": [
    {
     "name": "stdout",
     "output_type": "stream",
     "text": [
      "Subject: Expert Solution for Your Sr. Software Engineer (AWS) - Backend Needs\n",
      "\n",
      "Dear Hiring Manager,\n",
      "\n",
      "I came across the job description for a Sr. Software Engineer (AWS) - Backend at your organization, and I believe FlickO can be the perfect partner to fulfill your requirements. With a proven track record of delivering tailored software solutions, we can empower your enterprise with scalable, optimized, and highly efficient applications.\n",
      "\n",
      "The job description highlights the need for expertise in Node.js, TypeScript, AWS, Microservices, Serverless architecture, and more. Our team at FlickO comprises seasoned professionals with hands-on experience in these technologies. We have successfully developed and deployed numerous cloud-native applications, leveraging the full potential of AWS services like DynamoDB, S3, SNS/SQS, Step Functions, and Lambda.\n",
      "\n",
      "Some of our notable projects showcase our capabilities in full-stack JavaScript development, which aligns with your requirements. You can explore our portfolio at https://example.com/full-stack-js-portfolio and https://example.com/react-portfolio to see how we've helped other clients achieve their goals.\n",
      "\n",
      "By partnering with FlickO, you can benefit from our expertise in:\n",
      "\n",
      "* Designing and developing highly available, robust, and secure applications on AWS\n",
      "* Implementing microservices and serverless architectures\n",
      "* Leveraging TypeScript and Node.js for efficient backend development\n",
      "* Utilizing AWS services for scalable and optimized solutions\n",
      "\n",
      "I'd be delighted to discuss your project further and explain how FlickO can cater to your specific needs. Please feel free to reply to this email or schedule a call at your convenience.\n",
      "\n",
      "Looking forward to the possibility of collaborating with you.\n",
      "\n",
      "Best regards,\n",
      "\n",
      "Deepak\n",
      "Business Development Executive\n",
      "FlickO\n"
     ]
    }
   ],
   "source": [
    "prompt_email = PromptTemplate.from_template(\n",
    "        \"\"\"\n",
    "        ### JOB DESCRIPTION:\n",
    "        {job_description}\n",
    "        \n",
    "        ### INSTRUCTION:\n",
    "        You are Deepak, a business development executive at FlickO. FlickO is an AI & Software Consulting company dedicated to facilitating\n",
    "        the seamless integration of business processes through automated tools. \n",
    "        Over our experience, we have empowered numerous enterprises with tailored solutions, fostering scalability, \n",
    "        process optimization, cost reduction, and heightened overall efficiency. \n",
    "        Your job is to write a cold email to the client regarding the job mentioned above describing the capability of FlickO \n",
    "        in fulfilling their needs.\n",
    "        Also add the most relevant ones from the following links to showcase FlickO's portfolio: {link_list}\n",
    "        Remember you are Deepak, BDE at FlickO. \n",
    "        Do not provide a preamble.\n",
    "        ### EMAIL (NO PREAMBLE):\n",
    "        \n",
    "        \"\"\"\n",
    "        )\n",
    "\n",
    "chain_email = prompt_email | llm\n",
    "res = chain_email.invoke({\"job_description\": str(job), \"link_list\": links})\n",
    "print(res.content)"
   ]
  },
  {
   "cell_type": "code",
   "execution_count": null,
   "id": "871e5686-6bd5-48d8-a5c6-4768c2933403",
   "metadata": {},
   "outputs": [],
   "source": []
  }
 ],
 "metadata": {
  "kernelspec": {
   "display_name": "Python 3 (ipykernel)",
   "language": "python",
   "name": "python3"
  },
  "language_info": {
   "codemirror_mode": {
    "name": "ipython",
    "version": 3
   },
   "file_extension": ".py",
   "mimetype": "text/x-python",
   "name": "python",
   "nbconvert_exporter": "python",
   "pygments_lexer": "ipython3",
   "version": "3.12.3"
  }
 },
 "nbformat": 4,
 "nbformat_minor": 5
}
